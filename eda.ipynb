{
 "cells": [
  {
   "cell_type": "markdown",
   "metadata": {},
   "source": [
    "# New York City Taxi Trip Duration\n",
    "\n",
    "* What is this? : ride time predictions\n",
    "* URL: https://www.kaggle.com/c/nyc-taxi-trip-duration\n",
    "* Dataset\n",
    "    * train.csv\n",
    "    * test.csv\n",
    "    * sample_submission.csv"
   ]
  },
  {
   "cell_type": "markdown",
   "metadata": {},
   "source": [
    "## Import Libraries"
   ]
  },
  {
   "cell_type": "code",
   "execution_count": 49,
   "metadata": {
    "collapsed": true
   },
   "outputs": [],
   "source": [
    "import pandas as pd  #pandas for using dataframe and reading csv \n",
    "import numpy as np   #numpy for vector operations and basic maths\n",
    "\n",
    "import math          #for basic maths operations\n",
    "import seaborn as sns #for making plots\n",
    "import matplotlib.pyplot as plt # for plotting\n",
    "\n",
    "%matplotlib inline"
   ]
  },
  {
   "cell_type": "markdown",
   "metadata": {},
   "source": [
    "## Prepare Data"
   ]
  },
  {
   "cell_type": "code",
   "execution_count": 37,
   "metadata": {},
   "outputs": [
    {
     "name": "stdout",
     "output_type": "stream",
     "text": [
      "CPU times: user 16.2 s, sys: 1.87 s, total: 18.1 s\n",
      "Wall time: 18.5 s\n"
     ]
    }
   ],
   "source": [
    "%%time\n",
    "\n",
    "train_fr_1 = pd.read_csv('./input/new-york-city-taxi-with-osrm/fastest_routes_train_part_1.csv')\n",
    "train_fr_2 = pd.read_csv('./input/new-york-city-taxi-with-osrm/fastest_routes_train_part_2.csv')\n",
    "train_fr = pd.concat([train_fr_1, train_fr_2])\n",
    "train_fr_new = train_fr[['id', 'total_distance', 'total_travel_time', 'number_of_steps']]\n",
    "train_df = pd.read_csv('./input/nyc-taxi-trip-duration/train.csv')\n",
    "train = pd.merge(train_df, train_fr_new, on = 'id', how = 'left')\n",
    "train_df = train.copy()\n",
    "\n",
    "train_df.head()"
   ]
  },
  {
   "cell_type": "code",
   "execution_count": 38,
   "metadata": {},
   "outputs": [
    {
     "data": {
      "text/html": [
       "<div>\n",
       "<style>\n",
       "    .dataframe thead tr:only-child th {\n",
       "        text-align: right;\n",
       "    }\n",
       "\n",
       "    .dataframe thead th {\n",
       "        text-align: left;\n",
       "    }\n",
       "\n",
       "    .dataframe tbody tr th {\n",
       "        vertical-align: top;\n",
       "    }\n",
       "</style>\n",
       "<table border=\"1\" class=\"dataframe\">\n",
       "  <thead>\n",
       "    <tr style=\"text-align: right;\">\n",
       "      <th></th>\n",
       "      <th>id</th>\n",
       "      <th>total_distance</th>\n",
       "      <th>total_travel_time</th>\n",
       "      <th>number_of_steps</th>\n",
       "    </tr>\n",
       "  </thead>\n",
       "  <tbody>\n",
       "    <tr>\n",
       "      <th>0</th>\n",
       "      <td>id2875421</td>\n",
       "      <td>2009.1</td>\n",
       "      <td>164.9</td>\n",
       "      <td>5</td>\n",
       "    </tr>\n",
       "    <tr>\n",
       "      <th>1</th>\n",
       "      <td>id2377394</td>\n",
       "      <td>2513.2</td>\n",
       "      <td>332.0</td>\n",
       "      <td>6</td>\n",
       "    </tr>\n",
       "    <tr>\n",
       "      <th>2</th>\n",
       "      <td>id3504673</td>\n",
       "      <td>1779.4</td>\n",
       "      <td>235.8</td>\n",
       "      <td>4</td>\n",
       "    </tr>\n",
       "    <tr>\n",
       "      <th>3</th>\n",
       "      <td>id2181028</td>\n",
       "      <td>1614.9</td>\n",
       "      <td>140.1</td>\n",
       "      <td>5</td>\n",
       "    </tr>\n",
       "    <tr>\n",
       "      <th>4</th>\n",
       "      <td>id0801584</td>\n",
       "      <td>1393.5</td>\n",
       "      <td>189.4</td>\n",
       "      <td>5</td>\n",
       "    </tr>\n",
       "  </tbody>\n",
       "</table>\n",
       "</div>"
      ],
      "text/plain": [
       "          id  total_distance  total_travel_time  number_of_steps\n",
       "0  id2875421          2009.1              164.9                5\n",
       "1  id2377394          2513.2              332.0                6\n",
       "2  id3504673          1779.4              235.8                4\n",
       "3  id2181028          1614.9              140.1                5\n",
       "4  id0801584          1393.5              189.4                5"
      ]
     },
     "execution_count": 38,
     "metadata": {},
     "output_type": "execute_result"
    }
   ],
   "source": [
    "train_fr_new.head()"
   ]
  },
  {
   "cell_type": "code",
   "execution_count": 39,
   "metadata": {},
   "outputs": [
    {
     "data": {
      "text/html": [
       "<div>\n",
       "<style>\n",
       "    .dataframe thead tr:only-child th {\n",
       "        text-align: right;\n",
       "    }\n",
       "\n",
       "    .dataframe thead th {\n",
       "        text-align: left;\n",
       "    }\n",
       "\n",
       "    .dataframe tbody tr th {\n",
       "        vertical-align: top;\n",
       "    }\n",
       "</style>\n",
       "<table border=\"1\" class=\"dataframe\">\n",
       "  <thead>\n",
       "    <tr style=\"text-align: right;\">\n",
       "      <th></th>\n",
       "      <th>id</th>\n",
       "      <th>vendor_id</th>\n",
       "      <th>pickup_datetime</th>\n",
       "      <th>dropoff_datetime</th>\n",
       "      <th>passenger_count</th>\n",
       "      <th>pickup_longitude</th>\n",
       "      <th>pickup_latitude</th>\n",
       "      <th>dropoff_longitude</th>\n",
       "      <th>dropoff_latitude</th>\n",
       "      <th>store_and_fwd_flag</th>\n",
       "      <th>trip_duration</th>\n",
       "      <th>total_distance</th>\n",
       "      <th>total_travel_time</th>\n",
       "      <th>number_of_steps</th>\n",
       "    </tr>\n",
       "  </thead>\n",
       "  <tbody>\n",
       "    <tr>\n",
       "      <th>0</th>\n",
       "      <td>id2875421</td>\n",
       "      <td>2</td>\n",
       "      <td>2016-03-14 17:24:55</td>\n",
       "      <td>2016-03-14 17:32:30</td>\n",
       "      <td>1</td>\n",
       "      <td>-73.982155</td>\n",
       "      <td>40.767937</td>\n",
       "      <td>-73.964630</td>\n",
       "      <td>40.765602</td>\n",
       "      <td>N</td>\n",
       "      <td>455</td>\n",
       "      <td>2009.1</td>\n",
       "      <td>164.9</td>\n",
       "      <td>5.0</td>\n",
       "    </tr>\n",
       "    <tr>\n",
       "      <th>1</th>\n",
       "      <td>id2377394</td>\n",
       "      <td>1</td>\n",
       "      <td>2016-06-12 00:43:35</td>\n",
       "      <td>2016-06-12 00:54:38</td>\n",
       "      <td>1</td>\n",
       "      <td>-73.980415</td>\n",
       "      <td>40.738564</td>\n",
       "      <td>-73.999481</td>\n",
       "      <td>40.731152</td>\n",
       "      <td>N</td>\n",
       "      <td>663</td>\n",
       "      <td>2513.2</td>\n",
       "      <td>332.0</td>\n",
       "      <td>6.0</td>\n",
       "    </tr>\n",
       "    <tr>\n",
       "      <th>2</th>\n",
       "      <td>id3858529</td>\n",
       "      <td>2</td>\n",
       "      <td>2016-01-19 11:35:24</td>\n",
       "      <td>2016-01-19 12:10:48</td>\n",
       "      <td>1</td>\n",
       "      <td>-73.979027</td>\n",
       "      <td>40.763939</td>\n",
       "      <td>-74.005333</td>\n",
       "      <td>40.710087</td>\n",
       "      <td>N</td>\n",
       "      <td>2124</td>\n",
       "      <td>11060.8</td>\n",
       "      <td>767.6</td>\n",
       "      <td>16.0</td>\n",
       "    </tr>\n",
       "    <tr>\n",
       "      <th>3</th>\n",
       "      <td>id3504673</td>\n",
       "      <td>2</td>\n",
       "      <td>2016-04-06 19:32:31</td>\n",
       "      <td>2016-04-06 19:39:40</td>\n",
       "      <td>1</td>\n",
       "      <td>-74.010040</td>\n",
       "      <td>40.719971</td>\n",
       "      <td>-74.012268</td>\n",
       "      <td>40.706718</td>\n",
       "      <td>N</td>\n",
       "      <td>429</td>\n",
       "      <td>1779.4</td>\n",
       "      <td>235.8</td>\n",
       "      <td>4.0</td>\n",
       "    </tr>\n",
       "    <tr>\n",
       "      <th>4</th>\n",
       "      <td>id2181028</td>\n",
       "      <td>2</td>\n",
       "      <td>2016-03-26 13:30:55</td>\n",
       "      <td>2016-03-26 13:38:10</td>\n",
       "      <td>1</td>\n",
       "      <td>-73.973053</td>\n",
       "      <td>40.793209</td>\n",
       "      <td>-73.972923</td>\n",
       "      <td>40.782520</td>\n",
       "      <td>N</td>\n",
       "      <td>435</td>\n",
       "      <td>1614.9</td>\n",
       "      <td>140.1</td>\n",
       "      <td>5.0</td>\n",
       "    </tr>\n",
       "  </tbody>\n",
       "</table>\n",
       "</div>"
      ],
      "text/plain": [
       "          id  vendor_id      pickup_datetime     dropoff_datetime  \\\n",
       "0  id2875421          2  2016-03-14 17:24:55  2016-03-14 17:32:30   \n",
       "1  id2377394          1  2016-06-12 00:43:35  2016-06-12 00:54:38   \n",
       "2  id3858529          2  2016-01-19 11:35:24  2016-01-19 12:10:48   \n",
       "3  id3504673          2  2016-04-06 19:32:31  2016-04-06 19:39:40   \n",
       "4  id2181028          2  2016-03-26 13:30:55  2016-03-26 13:38:10   \n",
       "\n",
       "   passenger_count  pickup_longitude  pickup_latitude  dropoff_longitude  \\\n",
       "0                1        -73.982155        40.767937         -73.964630   \n",
       "1                1        -73.980415        40.738564         -73.999481   \n",
       "2                1        -73.979027        40.763939         -74.005333   \n",
       "3                1        -74.010040        40.719971         -74.012268   \n",
       "4                1        -73.973053        40.793209         -73.972923   \n",
       "\n",
       "   dropoff_latitude store_and_fwd_flag  trip_duration  total_distance  \\\n",
       "0         40.765602                  N            455          2009.1   \n",
       "1         40.731152                  N            663          2513.2   \n",
       "2         40.710087                  N           2124         11060.8   \n",
       "3         40.706718                  N            429          1779.4   \n",
       "4         40.782520                  N            435          1614.9   \n",
       "\n",
       "   total_travel_time  number_of_steps  \n",
       "0              164.9              5.0  \n",
       "1              332.0              6.0  \n",
       "2              767.6             16.0  \n",
       "3              235.8              4.0  \n",
       "4              140.1              5.0  "
      ]
     },
     "execution_count": 39,
     "metadata": {},
     "output_type": "execute_result"
    }
   ],
   "source": [
    "train_df.head()"
   ]
  },
  {
   "cell_type": "markdown",
   "metadata": {},
   "source": [
    "## Check Data"
   ]
  },
  {
   "cell_type": "code",
   "execution_count": 48,
   "metadata": {},
   "outputs": [
    {
     "name": "stdout",
     "output_type": "stream",
     "text": [
      "Number of columns and rows and columns are 14 and 1458644 respectively.\n",
      "Train ids are unique\n",
      "Number of Nulls - 3.\n",
      "CPU times: user 794 ms, sys: 135 ms, total: 929 ms\n",
      "Wall time: 971 ms\n"
     ]
    }
   ],
   "source": [
    "%%time\n",
    "\n",
    "train_data = train_df.copy()\n",
    "\n",
    "print(\"Number of columns and rows and columns are {} and {} respectively.\".format(train_data.shape[1], train_data.shape[0]))\n",
    "\n",
    "# Unique?\n",
    "if train_data.id.unique().size == train_data.shape[0]:\n",
    "    print(\"Train ids are unique\")\n",
    "\n",
    "# How many nulls?\n",
    "print(\"Number of Nulls - {}.\".format(train_data.isnull().sum().sum()))\n"
   ]
  },
  {
   "cell_type": "markdown",
   "metadata": {},
   "source": [
    "## Visualisation"
   ]
  },
  {
   "cell_type": "code",
   "execution_count": 73,
   "metadata": {},
   "outputs": [
    {
     "name": "stdout",
     "output_type": "stream",
     "text": [
      "CPU times: user 332 ms, sys: 33.1 ms, total: 365 ms\n",
      "Wall time: 372 ms\n"
     ]
    },
    {
     "data": {
      "text/plain": [
       "<matplotlib.figure.Figure at 0x1762c96d8>"
      ]
     },
     "metadata": {},
     "output_type": "display_data"
    },
    {
     "data": {
      "image/png": "[encoded data removed]",
      "text/plain": [
       "<matplotlib.figure.Figure at 0x1762ad908>"
      ]
     },
     "metadata": {},
     "output_type": "display_data"
    }
   ],
   "source": [
    "%%time\n",
    "\n",
    "sns.set(style=\"white\", palette=\"muted\", color_codes=True)\n",
    "sns.despine(left=True)\n",
    "\n",
    "f, axes = plt.subplots(1, 1, figsize=(11, 7), sharex=True)\n",
    "\n",
    "sns.distplot(np.log(train_df['trip_duration'].values+1), axlabel='Log (trip duration)', label='log(trip_duration)', bins=50, color=\"r\")\n",
    "\n",
    "plt.tight_layout()"
   ]
  },
  {
   "cell_type": "code",
   "execution_count": 79,
   "metadata": {},
   "outputs": [
    {
     "data": {
      "text/plain": [
       "978383     3526282\n",
       "924150     2227612\n",
       "680594     2049578\n",
       "355003     1939736\n",
       "1234291      86392\n",
       "295382       86391\n",
       "73816        86390\n",
       "59891        86387\n",
       "1360439      86385\n",
       "753765       86379\n",
       "91717        86378\n",
       "1221666      86378\n",
       "66346        86377\n",
       "1138915      86377\n",
       "172662       86369\n",
       "779030       86369\n",
       "1284067      86369\n",
       "1269316      86369\n",
       "1213613      86367\n",
       "1233528      86367\n",
       "483960       86366\n",
       "1282413      86365\n",
       "290498       86364\n",
       "344777       86364\n",
       "1399707      86363\n",
       "755015       86362\n",
       "252615       86362\n",
       "1258361      86362\n",
       "556468       86362\n",
       "1182032      86361\n",
       "1102514      86361\n",
       "1099093      86361\n",
       "318008       86360\n",
       "351537       86358\n",
       "88508        86358\n",
       "883205       86358\n",
       "6513         86357\n",
       "1437604      86357\n",
       "612768       86357\n",
       "169857       86356\n",
       "1296280      86356\n",
       "836498       86356\n",
       "645313       86356\n",
       "1107580      86355\n",
       "447905       86354\n",
       "992593       86354\n",
       "98761        86354\n",
       "660239       86354\n",
       "1298124      86353\n",
       "913947       86353\n",
       "Name: trip_duration, dtype: int64"
      ]
     },
     "execution_count": 79,
     "metadata": {},
     "output_type": "execute_result"
    }
   ],
   "source": [
    "train_df['trip_duration'].sort_values(ascending=False).head(50)"
   ]
  },
  {
   "cell_type": "code",
   "execution_count": 91,
   "metadata": {},
   "outputs": [
    {
     "name": "stdout",
     "output_type": "stream",
     "text": [
      "CPU times: user 1.52 s, sys: 108 ms, total: 1.62 s\n",
      "Wall time: 1.66 s\n"
     ]
    },
    {
     "data": {
      "image/png": "[encoded data removed]",
      "text/plain": [
       "<matplotlib.figure.Figure at 0x10b7e6588>"
      ]
     },
     "metadata": {},
     "output_type": "display_data"
    }
   ],
   "source": [
    "%%time\n",
    "\n",
    "sns.set(style=\"white\", palette=\"muted\", color_codes=True)\n",
    "\n",
    "f, axes = plt.subplots(2, 2, figsize=(10, 10), sharex=False, sharey=False)\n",
    "\n",
    "sns.distplot(train_df['pickup_latitude'].values, label = 'pickup_latitude',color=\"m\",bins = 100, ax=axes[0, 0])\n",
    "sns.distplot(train_df['pickup_longitude'].values, label = 'pickup_longitude',color=\"m\",bins =100, ax=axes[0, 1])\n",
    "sns.distplot(train_df['dropoff_latitude'].values, label = 'dropoff_latitude',color=\"m\",bins =100, ax=axes[1, 0])\n",
    "sns.distplot(train_df['dropoff_longitude'].values, label = 'dropoff_longitude',color=\"m\",bins =100, ax=axes[1, 1])\n",
    "\n",
    "# plt.tight_layout()"
   ]
  },
  {
   "cell_type": "code",
   "execution_count": null,
   "metadata": {},
   "outputs": [],
   "source": [
    "df = train_df.loc[(train_df.pickup_latitude > 40.6) & (train_df.pickup_latitude < 40.9)]\n",
    "df = df.loc[(df.dropoff_latitude>40.6) & (df.dropoff_latitude < 40.9)]\n",
    "df = df.loc[(df.dropoff_longitude > -74.05) & (df.dropoff_longitude < -73.7)]\n",
    "df = df.loc[(df.pickup_longitude > -74.05) & (df.pickup_longitude < -73.7)]\n",
    "train_data_new = df.copy()\n",
    "sns.set(style=\"white\", palette=\"muted\", color_codes=True)\n",
    "f, axes = plt.subplots(2,2,figsize=(12, 12), sharex=False, sharey = False)#\n",
    "sns.despine(left=True)\n",
    "sns.distplot(train_data_new['pickup_latitude'].values, label = 'pickup_latitude',color=\"m\",bins = 100, ax=axes[0,0])\n",
    "sns.distplot(train_data_new['pickup_longitude'].values, label = 'pickup_longitude',color=\"g\",bins =100, ax=axes[0,1])\n",
    "sns.distplot(train_data_new['dropoff_latitude'].values, label = 'dropoff_latitude',color=\"m\",bins =100, ax=axes[1, 0])\n",
    "sns.distplot(train_data_new['dropoff_longitude'].values, label = 'dropoff_longitude',color=\"g\",bins =100, ax=axes[1, 1])\n",
    "plt.setp(axes, yticks=[])\n",
    "plt.tight_layout()"
   ]
  },
  {
   "cell_type": "code",
   "execution_count": null,
   "metadata": {
    "collapsed": true
   },
   "outputs": [],
   "source": []
  }
 ],
 "metadata": {
  "kernelspec": {
   "display_name": "Python 3",
   "language": "python",
   "name": "python3"
  },
  "language_info": {
   "codemirror_mode": {
    "name": "ipython",
    "version": 3
   },
   "file_extension": ".py",
   "mimetype": "text/x-python",
   "name": "python",
   "nbconvert_exporter": "python",
   "pygments_lexer": "ipython3",
   "version": "3.6.2"
  }
 },
 "nbformat": 4,
 "nbformat_minor": 2
}
